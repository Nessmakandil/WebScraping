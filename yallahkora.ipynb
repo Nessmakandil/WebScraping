{
 "cells": [
  {
   "cell_type": "code",
   "execution_count": 10,
   "metadata": {},
   "outputs": [],
   "source": [
    "import requests\n",
    "import time\n",
    "from bs4 import BeautifulSoup\n",
    "import csv"
   ]
  },
  {
   "cell_type": "code",
   "execution_count": 19,
   "metadata": {},
   "outputs": [
    {
     "name": "stdout",
     "output_type": "stream",
     "text": [
      "file created\n"
     ]
    }
   ],
   "source": [
    "date = input(\"input date in the form MM/DD/YYYY: \")\n",
    "page = ''\n",
    "while page == '':\n",
    "    try:\n",
    "        page = requests.get(f\"https://www.yallakora.com/match-center/?date={date}\")\n",
    "        break\n",
    "    except:\n",
    "        print(\"Connection refused by the server..\")\n",
    "        print(\"Let me sleep for 5 seconds\")\n",
    "        print(\"ZZzzzz...\")\n",
    "        time.sleep(5)\n",
    "        print(\"Was a nice sleep, now let me continue...\")\n",
    "        continue\n",
    "\n",
    "def main(page):\n",
    "    src = page.content\n",
    "    soup = BeautifulSoup(src, \"lxml\")\n",
    "    matches_details = []\n",
    "\n",
    "    championship = soup.find_all(\"div\", {'class': 'matchCard'})\n",
    "\n",
    "    def get_match_info(championship):\n",
    "        championship_title = championship.contents[1].find(\"h2\").text.strip()\n",
    "        all_matches = championship.contents[3].find_all('li')\n",
    "        number_of_matches = len(all_matches)\n",
    "\n",
    "        for i in range(number_of_matches):\n",
    "            # get teams names\n",
    "            teamA = all_matches[i].find('div', {'class' : 'teamA'}).text.strip()\n",
    "            teamB = all_matches[i].find('div', {'class' : 'teamB'}).text.strip()\n",
    "\n",
    "            # get score\n",
    "            match_results = all_matches[i].find('div', {'class' : 'MResult'}).find_all('span', {'class' : 'score'})\n",
    "            score = f\"{match_results[0].text.strip()} - {match_results[0].text.strip()}\"\n",
    "\n",
    "            # get match time\n",
    "            match_time = all_matches[i].find('div', {'class' : 'MResult'}).find('span', {'class' : 'time'}).text.strip()\n",
    "\n",
    "            # add match to match table\n",
    "            matches_details.append({\"نوع البطولة\" : championship_title,\n",
    "                                    \"الفريق الأول\" : teamA,\n",
    "                                    \"الفريق الثاني\" : teamB,\n",
    "                                    \"ميعاد المباراة\" : match_time,\n",
    "                                    \"النتيجة\" : score})\n",
    "        \n",
    "    for i in range(len(championship)):\n",
    "        get_match_info(championship[i])\n",
    "    \n",
    "    keys = matches_details[0].keys()\n",
    "\n",
    "    with open('F:\\ML_DL_DS\\WebScraping/matches_details.csv', 'w') as output_file:\n",
    "        dict_writer =csv.DictWriter(output_file, keys)\n",
    "        dict_writer.writeheader()\n",
    "        dict_writer.writerows(matches_details)\n",
    "        print(\"file created\")\n",
    "\n",
    "main(page)"
   ]
  },
  {
   "cell_type": "code",
   "execution_count": null,
   "metadata": {},
   "outputs": [],
   "source": []
  }
 ],
 "metadata": {
  "kernelspec": {
   "display_name": "Python 3",
   "language": "python",
   "name": "python3"
  },
  "language_info": {
   "codemirror_mode": {
    "name": "ipython",
    "version": 3
   },
   "file_extension": ".py",
   "mimetype": "text/x-python",
   "name": "python",
   "nbconvert_exporter": "python",
   "pygments_lexer": "ipython3",
   "version": "3.9.12"
  },
  "orig_nbformat": 4
 },
 "nbformat": 4,
 "nbformat_minor": 2
}
